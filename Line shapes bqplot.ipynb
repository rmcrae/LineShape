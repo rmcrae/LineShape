{
 "cells": [
  {
   "cell_type": "code",
   "execution_count": 1,
   "id": "97605a35",
   "metadata": {},
   "outputs": [],
   "source": [
    "#%matplotlib notebook\n",
    "from numpy import *\n",
    "import bqplot.pyplot as plt\n",
    "import ipywidgets as widgets\n",
    "from IPython.display import display, Latex, HTML, Math\n",
    "from scipy.constants import centi, angstrom, c, mega\n",
    "from scipy.signal import convolve"
   ]
  },
  {
   "cell_type": "code",
   "execution_count": 25,
   "id": "f09d286f",
   "metadata": {},
   "outputs": [],
   "source": [
    "# Doppler line shape in terms of FWHM, DnD\n",
    "T = 300                 # kelvins\n",
    "M = 23                  # g/mol for Na\n",
    "nu_0 = centi / (5890*angstrom)  # wavelength = 5890 angstroms\n",
    "DnD = 7.1e-7 * nu_0 * sqrt(T/M)\n",
    "\n",
    "def g_D(nu, nu0 = nu_0, width = DnD):\n",
    "    const = 2*sqrt(log(2)/pi)/width\n",
    "    output = const * exp(-4*log(2)*((nu-nu0)/width)**2)\n",
    "    return output / max(output)\n",
    "\n",
    "def lorentz(nu, nu0 = nu_0, width = 300*mega*centi/c):\n",
    "    output = width/(2*pi)/((width*0.5)**2 + (nu-nu0)**2)\n",
    "    return output / max(output)"
   ]
  },
  {
   "cell_type": "markdown",
   "id": "3700acde",
   "metadata": {},
   "source": [
    "## Gaussian vs Lorentzian vs Voigt lineshapes"
   ]
  },
  {
   "cell_type": "markdown",
   "id": "9b337603",
   "metadata": {},
   "source": [
    "#### Gaussian line shape\n",
    "\n",
    "Expressed in terms of the Full Width at Half Maximum (FWHM), $\\Delta \\nu_G$:\n",
    "\n",
    "$$ g_G(\\nu - \\nu_0) = \\frac{2}{\\Delta \\nu_G} \\left( \\frac{\\ln{2}}{\\pi } \\right)^{1/2} e^{-4 \\ln{2} [(\\nu-\\nu_0)/\\Delta \\nu_G]^2}$$"
   ]
  },
  {
   "cell_type": "markdown",
   "id": "f9ee038c",
   "metadata": {},
   "source": [
    "#### Lorentzian line shape\n",
    "\n",
    "Expressed in terms of FWHM, $\\Delta \\nu_L$:\n",
    "\n",
    "$$ g_L(\\nu - \\nu_0) = \\frac{\\Delta \\nu_L / 2 \\pi} {\\left( \\Delta \\nu_L  / 2 \\right)^2 + (\\nu - \\nu_0)^2}$$"
   ]
  },
  {
   "cell_type": "markdown",
   "id": "21432a13",
   "metadata": {},
   "source": [
    "#### Voigt line shape\n",
    "\n",
    "This is a convolution of a Gaussian line shape with a Lorentzian line shape\n",
    "\n",
    "$$g_V(\\nu - \\nu_0) = \\int_{-\\infty}^{\\infty} g_G(\\nu_0'-\\nu_0) g_L(\\nu - \\nu_0') d\\nu_0'$$"
   ]
  },
  {
   "cell_type": "markdown",
   "id": "88bd7908",
   "metadata": {},
   "source": [
    "In the plot below, the line shapes are automatically normalized to a maximum of 1 (vertical scale, not integral) just to make them easily visible on the same scale."
   ]
  },
  {
   "cell_type": "code",
   "execution_count": 30,
   "id": "e33461ad",
   "metadata": {
    "scrolled": false
   },
   "outputs": [
    {
     "data": {
      "application/vnd.jupyter.widget-view+json": {
       "model_id": "df8c52ba83794219a6b1e9f71879cd49",
       "version_major": 2,
       "version_minor": 0
      },
      "text/plain": [
       "VBox(children=(Figure(axes=[Axis(scale=LinearScale()), Axis(orientation='vertical', scale=LinearScale())], fig…"
      ]
     },
     "execution_count": 30,
     "metadata": {},
     "output_type": "execute_result"
    }
   ],
   "source": [
    "# set up widgets\n",
    "fig_layout = widgets.Layout(height = \"400px\", width = \"600px\")\n",
    "fig_margin_dict = dict(top=30, bottom = 30, left = 20, right = 10)\n",
    "figure = plt.figure(title = \"Line Shape Comparison\", layout = fig_layout, fig_margin = fig_margin_dict)\n",
    "\n",
    "center = 0.0\n",
    "gauss_width = 1300 # MHz\n",
    "lorentz_width = 100 # MHz\n",
    "max_width = max(gauss_width, lorentz_width)\n",
    "max_width *= mega*centi/c\n",
    "nu = linspace(-4*max_width, 4*max_width,  200)\n",
    "y1 = g_D(nu, nu0 = center, width = gauss_width*mega*centi/c)\n",
    "y1 = y1 / max(y1)\n",
    "y2 = lorentz(nu, nu0 = center, width = lorentz_width*mega*centi/c)\n",
    "y2 = y2 / max(y2)\n",
    "result = convolve(y1, y2, mode='same') / sum(y2)\n",
    "result = result / max(result)\n",
    "shift = nu[argmax(y1)] - nu[argmax(result)]\n",
    "\n",
    "gauss_line = plt.plot(nu, y1, labels = [\"Gaussian\"], colors = ['blue'], display_legend=True)\n",
    "lorentz_line = plt.plot(nu, y2, labels = [\"Lorentzian\"], colors = ['magenta'], display_legend=True)\n",
    "voigt_line = plt.plot(nu+shift, result, labels = [\"Voigt\"], colors = ['green'], display_legend=True)\n",
    "#plt.grid()\n",
    "plt.legend();\n",
    "\n",
    "# rows of controls\n",
    "# first row: Gaussian\n",
    "label1 = widgets.Label(\"Gaussian width: \")\n",
    "gaussSlider = widgets.FloatSlider(value = gauss_width, min = 1, max = 4000, step = 1)\n",
    "unitLabel = widgets.Label(\"MHz\")\n",
    "row1 = widgets.HBox([label1, gaussSlider, unitLabel])\n",
    "\n",
    "# second row:  Lorentzian\n",
    "label2 = widgets.Label(\"Lorentzian width: \")\n",
    "lorentzSlider = widgets.FloatSlider(value = lorentz_width, min = 1, max = 4000, step = 1)\n",
    "row2 = widgets.HBox([label2, lorentzSlider, unitLabel])\n",
    "\n",
    "# callbacks\n",
    "def update_plot(change):\n",
    "    g_width = gaussSlider.value *mega*centi/c\n",
    "    l_width = lorentzSlider.value * mega*centi/c\n",
    "    \n",
    "    gauss_line.y = g_D(nu, nu0 = center, width = g_width)\n",
    "    lorentz_line.y = lorentz(nu, nu0 = center, width = l_width)\n",
    "    result = convolve(gauss_line.y, lorentz_line.y, mode='same')\n",
    "    voigt_line.y = result / max(result)\n",
    "    \n",
    "gaussSlider.observe(update_plot, names = 'value')\n",
    "lorentzSlider.observe(update_plot, names = 'value')\n",
    "widgets.VBox([figure, row1, row2])"
   ]
  },
  {
   "cell_type": "code",
   "execution_count": 31,
   "id": "07ef8066",
   "metadata": {},
   "outputs": [
    {
     "data": {
      "text/html": [
       "<style>\n",
       "div.input{\n",
       "    display:none;\n",
       "}\n",
       "</style>\n"
      ],
      "text/plain": [
       "<IPython.core.display.HTML object>"
      ]
     },
     "metadata": {},
     "output_type": "display_data"
    }
   ],
   "source": [
    "%%html\n",
    "<style>\n",
    "div.input{\n",
    "    display:none;\n",
    "}\n",
    "</style>"
   ]
  },
  {
   "cell_type": "code",
   "execution_count": null,
   "id": "993765c8",
   "metadata": {},
   "outputs": [],
   "source": []
  }
 ],
 "metadata": {
  "kernelspec": {
   "display_name": "Python 3",
   "language": "python",
   "name": "python3"
  },
  "language_info": {
   "codemirror_mode": {
    "name": "ipython",
    "version": 3
   },
   "file_extension": ".py",
   "mimetype": "text/x-python",
   "name": "python",
   "nbconvert_exporter": "python",
   "pygments_lexer": "ipython3",
   "version": "3.8.8"
  }
 },
 "nbformat": 4,
 "nbformat_minor": 5
}
